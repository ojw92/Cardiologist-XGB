{
 "cells": [
  {
   "cell_type": "code",
   "execution_count": 1,
   "id": "d10070c0-a023-4f42-a6cf-075980f9b4eb",
   "metadata": {},
   "outputs": [],
   "source": [
    "import pandas as pd\n",
    "import numpy as np\n",
    "from sklearn.linear_model import LogisticRegression\n",
    "from sklearn.metrics import classification_report, mean_squared_error"
   ]
  },
  {
   "cell_type": "code",
   "execution_count": 2,
   "id": "632a1dbb-969b-4630-93de-1547fdd400ec",
   "metadata": {},
   "outputs": [],
   "source": [
    "df = pd.read_csv('../Data/clustered_df.csv')"
   ]
  },
  {
   "cell_type": "code",
   "execution_count": 3,
   "metadata": {},
   "outputs": [
    {
     "data": {
      "text/plain": [
       "Index(['Unnamed: 0', 'PhysicalHealthDays', 'SleepHours', 'HeightInMeters',\n",
       "       'GeneralHealth', 'RemovedTeeth', 'AgeCategory', 'SmokerStatus_ord',\n",
       "       'AlcoholDrinkers', 'BlindOrVisionDifficulty', 'ChestScan', 'CovidPosNo',\n",
       "       'CovidPosYes', 'DifficultyConcentrating', 'DifficultyDressingBathing',\n",
       "       'DifficultyErrands', 'DifficultyWalking', 'FluVaxLast12', 'HIVTesting',\n",
       "       'HadAngina', 'HadArthritis', 'HadDiabetesOther', 'HadDiabetesYes',\n",
       "       'HadKidneyDisease', 'HadSkinCancer', 'HadStroke', 'LastCheckupTime',\n",
       "       'PhysicalActivities', 'PneumoVaxEver', 'RaceEthnicityCategoryHispanic',\n",
       "       'RaceEthnicityCategoryMultiracial._Non.Hispanic',\n",
       "       'RaceEthnicityCategoryOther_race_only._Non.Hispanic',\n",
       "       'RaceEthnicityCategoryWhite_only._Non.Hispanic',\n",
       "       'RegionEast_South_Central', 'RegionMiddle_Atlantic',\n",
       "       'RegionMountain_Region', 'RegionNew_England', 'RegionTerritories',\n",
       "       'Sex', 'TetanusLast10Tdap', 'HadHeartAttack', 'cluster'],\n",
       "      dtype='object')"
      ]
     },
     "execution_count": 3,
     "metadata": {},
     "output_type": "execute_result"
    }
   ],
   "source": [
    "df.columns"
   ]
  },
  {
   "cell_type": "code",
   "execution_count": 4,
   "metadata": {},
   "outputs": [],
   "source": [
    "df.drop(columns=['Unnamed: 0'], inplace=True)"
   ]
  },
  {
   "cell_type": "code",
   "execution_count": 5,
   "metadata": {},
   "outputs": [
    {
     "name": "stdout",
     "output_type": "stream",
     "text": [
      "<class 'pandas.core.frame.DataFrame'>\n",
      "RangeIndex: 246022 entries, 0 to 246021\n",
      "Data columns (total 41 columns):\n",
      " #   Column                                              Non-Null Count   Dtype  \n",
      "---  ------                                              --------------   -----  \n",
      " 0   PhysicalHealthDays                                  246022 non-null  int64  \n",
      " 1   SleepHours                                          246022 non-null  int64  \n",
      " 2   HeightInMeters                                      246022 non-null  float64\n",
      " 3   GeneralHealth                                       246022 non-null  int64  \n",
      " 4   RemovedTeeth                                        246022 non-null  int64  \n",
      " 5   AgeCategory                                         246022 non-null  int64  \n",
      " 6   SmokerStatus_ord                                    246022 non-null  int64  \n",
      " 7   AlcoholDrinkers                                     246022 non-null  int64  \n",
      " 8   BlindOrVisionDifficulty                             246022 non-null  int64  \n",
      " 9   ChestScan                                           246022 non-null  int64  \n",
      " 10  CovidPosNo                                          246022 non-null  int64  \n",
      " 11  CovidPosYes                                         246022 non-null  int64  \n",
      " 12  DifficultyConcentrating                             246022 non-null  int64  \n",
      " 13  DifficultyDressingBathing                           246022 non-null  int64  \n",
      " 14  DifficultyErrands                                   246022 non-null  int64  \n",
      " 15  DifficultyWalking                                   246022 non-null  int64  \n",
      " 16  FluVaxLast12                                        246022 non-null  int64  \n",
      " 17  HIVTesting                                          246022 non-null  int64  \n",
      " 18  HadAngina                                           246022 non-null  int64  \n",
      " 19  HadArthritis                                        246022 non-null  int64  \n",
      " 20  HadDiabetesOther                                    246022 non-null  int64  \n",
      " 21  HadDiabetesYes                                      246022 non-null  int64  \n",
      " 22  HadKidneyDisease                                    246022 non-null  int64  \n",
      " 23  HadSkinCancer                                       246022 non-null  int64  \n",
      " 24  HadStroke                                           246022 non-null  int64  \n",
      " 25  LastCheckupTime                                     246022 non-null  int64  \n",
      " 26  PhysicalActivities                                  246022 non-null  int64  \n",
      " 27  PneumoVaxEver                                       246022 non-null  int64  \n",
      " 28  RaceEthnicityCategoryHispanic                       246022 non-null  int64  \n",
      " 29  RaceEthnicityCategoryMultiracial._Non.Hispanic      246022 non-null  int64  \n",
      " 30  RaceEthnicityCategoryOther_race_only._Non.Hispanic  246022 non-null  int64  \n",
      " 31  RaceEthnicityCategoryWhite_only._Non.Hispanic       246022 non-null  int64  \n",
      " 32  RegionEast_South_Central                            246022 non-null  int64  \n",
      " 33  RegionMiddle_Atlantic                               246022 non-null  int64  \n",
      " 34  RegionMountain_Region                               246022 non-null  int64  \n",
      " 35  RegionNew_England                                   246022 non-null  int64  \n",
      " 36  RegionTerritories                                   246022 non-null  int64  \n",
      " 37  Sex                                                 246022 non-null  int64  \n",
      " 38  TetanusLast10Tdap                                   246022 non-null  int64  \n",
      " 39  HadHeartAttack                                      246022 non-null  int64  \n",
      " 40  cluster                                             246022 non-null  int64  \n",
      "dtypes: float64(1), int64(40)\n",
      "memory usage: 77.0 MB\n"
     ]
    }
   ],
   "source": [
    "df.info()"
   ]
  },
  {
   "cell_type": "code",
   "execution_count": 6,
   "metadata": {},
   "outputs": [
    {
     "name": "stdout",
     "output_type": "stream",
     "text": [
      "Cluster 1\n",
      "Results for Cluster 1\n",
      "              precision    recall  f1-score   support\n",
      "\n",
      "           0       0.96      1.00      0.98     48641\n",
      "           1       0.46      0.06      0.11      1915\n",
      "\n",
      "    accuracy                           0.96     50556\n",
      "   macro avg       0.71      0.53      0.55     50556\n",
      "weighted avg       0.95      0.96      0.95     50556\n",
      "\n",
      "RMSE: 0.19558785430259287\n",
      "Cluster 2\n",
      "Results for Cluster 2\n",
      "              precision    recall  f1-score   support\n",
      "\n",
      "           0       0.99      1.00      0.99     44419\n",
      "           1       0.41      0.04      0.07       536\n",
      "\n",
      "    accuracy                           0.99     44955\n",
      "   macro avg       0.70      0.52      0.53     44955\n",
      "weighted avg       0.98      0.99      0.98     44955\n",
      "\n",
      "RMSE: 0.11000449935692475\n",
      "Cluster 3\n",
      "Results for Cluster 3\n",
      "              precision    recall  f1-score   support\n",
      "\n",
      "           0       0.99      1.00      0.99     48766\n",
      "           1       0.44      0.01      0.01       620\n",
      "\n",
      "    accuracy                           0.99     49386\n",
      "   macro avg       0.72      0.50      0.50     49386\n",
      "weighted avg       0.98      0.99      0.98     49386\n",
      "\n",
      "RMSE: 0.11213569369956294\n",
      "Cluster 4\n",
      "Results for Cluster 4\n",
      "              precision    recall  f1-score   support\n",
      "\n",
      "           0       0.90      0.99      0.94     23982\n",
      "           1       0.62      0.16      0.26      2971\n",
      "\n",
      "    accuracy                           0.90     26953\n",
      "   macro avg       0.76      0.57      0.60     26953\n",
      "weighted avg       0.87      0.90      0.87     26953\n",
      "\n",
      "RMSE: 0.3217351761013687\n",
      "Cluster 5\n",
      "Results for Cluster 5\n",
      "              precision    recall  f1-score   support\n",
      "\n",
      "           0       0.87      0.98      0.92     35249\n",
      "           1       0.65      0.20      0.31      6640\n",
      "\n",
      "    accuracy                           0.86     41889\n",
      "   macro avg       0.76      0.59      0.62     41889\n",
      "weighted avg       0.83      0.86      0.82     41889\n",
      "\n",
      "RMSE: 0.3788116855483419\n",
      "Cluster 6\n",
      "Results for Cluster 6\n",
      "              precision    recall  f1-score   support\n",
      "\n",
      "           0       0.98      1.00      0.99     31530\n",
      "           1       0.54      0.08      0.13       753\n",
      "\n",
      "    accuracy                           0.98     32283\n",
      "   macro avg       0.76      0.54      0.56     32283\n",
      "weighted avg       0.97      0.98      0.97     32283\n",
      "\n",
      "RMSE: 0.15191168932729682\n"
     ]
    }
   ],
   "source": [
    "cluster = df[df['cluster'] == 1]\n",
    "def get_significant_vars(df, cluster_num, ):\n",
    "    log_model = LogisticRegression(max_iter=1000)\n",
    "    y = cluster['HadHeartAttack']\n",
    "    prep_cluster = df.drop(columns=['HadHeartAttack', 'cluster'])\n",
    "    \n",
    "    log_model.fit(prep_cluster, y)\n",
    "    \n",
    "    y_pred = log_model.predict_proba(prep_cluster)[:, 1] > 0.58\n",
    "    \n",
    "    print(f'Results for Cluster {cluster_num}')\n",
    "    # Summary\n",
    "    print(classification_report(y, y_pred))\n",
    "    # Calculate RMSE\n",
    "    rmse = np.sqrt(mean_squared_error(y, y_pred))\n",
    "    print('RMSE:', rmse)\n",
    "    \n",
    "    # Return the feature importances and p values for the significant variables\n",
    "    feature_importances = pd.Series(log_model.coef_[0], index=prep_cluster.columns)\n",
    "    return feature_importances\n",
    "\n",
    "significant_vars = {}\n",
    "for i in range(1, df['cluster'].max()+1):\n",
    "    print(f'Cluster {i}')\n",
    "    cluster = df[df['cluster'] == i]\n",
    "    significant_vars[f'cluster_{i}'] = get_significant_vars(cluster, i)\n"
   ]
  },
  {
   "cell_type": "code",
   "execution_count": 7,
   "metadata": {},
   "outputs": [],
   "source": [
    "importance_df = pd.DataFrame(significant_vars)\n",
    "importance_df.to_csv('../Data/cluster_feat_importance.csv')"
   ]
  },
  {
   "cell_type": "code",
   "execution_count": null,
   "metadata": {},
   "outputs": [],
   "source": []
  }
 ],
 "metadata": {
  "kernelspec": {
   "display_name": "Python 3 (ipykernel)",
   "language": "python",
   "name": "python3"
  },
  "language_info": {
   "codemirror_mode": {
    "name": "ipython",
    "version": 3
   },
   "file_extension": ".py",
   "mimetype": "text/x-python",
   "name": "python",
   "nbconvert_exporter": "python",
   "pygments_lexer": "ipython3",
   "version": "3.10.6"
  }
 },
 "nbformat": 4,
 "nbformat_minor": 5
}
